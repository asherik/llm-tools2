{
 "cells": [
  {
   "cell_type": "code",
   "execution_count": null,
   "id": "021e7d5c-8c39-4761-9214-0988fb3fbac5",
   "metadata": {
    "tags": []
   },
   "outputs": [],
   "source": [
    "%load_ext autoreload\n",
    "%autoreload 2"
   ]
  },
  {
   "cell_type": "code",
   "execution_count": null,
   "id": "6ce26e0d-fe55-4392-a100-fb73f1b6d83f",
   "metadata": {
    "tags": []
   },
   "outputs": [],
   "source": [
    "import sys, os\n",
    "from pathlib import Path"
   ]
  },
  {
   "cell_type": "code",
   "execution_count": null,
   "id": "a9bedd04-3f0d-4b75-a39a-9b9f0fc52de0",
   "metadata": {},
   "outputs": [],
   "source": [
    "sys.path.insert(0, '../')"
   ]
  },
  {
   "cell_type": "code",
   "execution_count": null,
   "id": "ebdf0319-2d7d-4820-8aea-e73e8d21cdd8",
   "metadata": {
    "tags": []
   },
   "outputs": [],
   "source": [
    "import logging\n",
    "logger = logging.getLogger()\n",
    "logger.setLevel(logging.ERROR)"
   ]
  },
  {
   "cell_type": "code",
   "execution_count": null,
   "id": "afb7b291-0bc1-4b04-90bc-05bb3876110b",
   "metadata": {
    "tags": []
   },
   "outputs": [],
   "source": [
    "import yaml"
   ]
  },
  {
   "cell_type": "code",
   "execution_count": null,
   "id": "2f37835d-45ea-4870-8482-8f9bb4a40415",
   "metadata": {},
   "outputs": [],
   "source": [
    "BASE_PATH = Path(\"../../voicebot/config/\")"
   ]
  },
  {
   "cell_type": "markdown",
   "id": "abe63a37-c702-4326-ab1f-77264995b21c",
   "metadata": {},
   "source": [
    "# Parse input file"
   ]
  },
  {
   "cell_type": "code",
   "execution_count": null,
   "id": "e442cb56-1467-4484-ad53-556edc3a94e3",
   "metadata": {},
   "outputs": [],
   "source": [
    "with open(BASE_PATH / \"strings.yml\") as f:\n",
    "    lines = f.readlines()\n",
    "with open(BASE_PATH / \"strings.yml\") as f:\n",
    "    yaml_data = yaml.safe_load(f)"
   ]
  },
  {
   "cell_type": "code",
   "execution_count": null,
   "id": "72c42665-969d-409a-aa3c-249574d80b88",
   "metadata": {},
   "outputs": [],
   "source": [
    "translations = {}\n",
    "lines_it = iter(lines)\n",
    "current_name = None\n",
    "current_translation = None\n",
    "while True:\n",
    "    try:\n",
    "        line = next(lines_it)\n",
    "    except StopIteration:\n",
    "        line = None\n",
    "\n",
    "    if line is None or (len(line) > 0 and line.strip().endswith(\":\") and not line.startswith('  ')):\n",
    "        if current_name is not None:\n",
    "            current_translation = \"\\n\".join(\n",
    "                x[2:] if x.strip() else \"\"\n",
    "                for x in current_translation.splitlines()\n",
    "            )\n",
    "            translations[current_name] = current_translation\n",
    "        if line is not None:\n",
    "            current_name = line.strip()[:-1]\n",
    "            current_translation = \"\"\n",
    "        else:\n",
    "            break\n",
    "    else:\n",
    "        current_translation += line"
   ]
  },
  {
   "cell_type": "markdown",
   "id": "64d96f5c-c708-4c34-b19a-8b92a44f6fd7",
   "metadata": {},
   "source": [
    "# Manually choose which keys to translate"
   ]
  },
  {
   "cell_type": "code",
   "execution_count": null,
   "id": "68b038d8-119b-457d-8ba3-d9c552eaaae8",
   "metadata": {
    "tags": []
   },
   "outputs": [],
   "source": [
    "keys_to_translate = [\n",
    "    x for x in yaml_data\n",
    "    # if len(yaml_data[x]) < 3\n",
    "]"
   ]
  },
  {
   "cell_type": "markdown",
   "id": "5eea261b-374c-4e30-bec2-f919b49a6927",
   "metadata": {},
   "source": [
    "# Manually choose languages"
   ]
  },
  {
   "cell_type": "code",
   "execution_count": null,
   "id": "e0c793be-aa7c-44b5-9d13-9b6700efb502",
   "metadata": {},
   "outputs": [],
   "source": [
    "languages = DEFAULT_LANGUAGES\n",
    "from iso639 import Lang\n",
    "languages = [Lang(\"Chinese\")]"
   ]
  },
  {
   "cell_type": "markdown",
   "id": "d8999b07-700c-4dd3-b834-8055b9f92c2e",
   "metadata": {},
   "source": [
    "# Do translation"
   ]
  },
  {
   "cell_type": "code",
   "execution_count": null,
   "id": "a1c46642-57e9-4f91-b1a9-8f99d2db2594",
   "metadata": {},
   "outputs": [],
   "source": [
    "from llm_tools.ui_translator import (\n",
    "    get_translation_yaml,\n",
    "    DEFAULT_LANGUAGES,\n",
    ")"
   ]
  },
  {
   "cell_type": "code",
   "execution_count": null,
   "id": "450556b5-aa71-4d46-8282-041b8c58cb4a",
   "metadata": {},
   "outputs": [],
   "source": [
    "from llm_tools.llm_fallback import StreamingModelWithFallback\n",
    "from llm_tools.llm_streaming import StreamingOpenAIChatModel\n",
    "from langchain.chat_models import ChatOpenAI"
   ]
  },
  {
   "cell_type": "code",
   "execution_count": null,
   "id": "1c7ca6bb-62da-4a63-adb3-93c199797a60",
   "metadata": {},
   "outputs": [],
   "source": [
    "model = StreamingModelWithFallback(models=[StreamingOpenAIChatModel(\n",
    "    ChatOpenAI(\n",
    "        openai_api_key=\"<KEY>\",\n",
    "        model_name='gpt-4',\n",
    "        streaming=True,\n",
    "        temperature=0\n",
    "    )\n",
    ")])"
   ]
  },
  {
   "cell_type": "code",
   "execution_count": null,
   "id": "47799ee6-74eb-4bcf-9383-0968cc69116d",
   "metadata": {},
   "outputs": [],
   "source": [
    "from IPython.display import clear_output"
   ]
  },
  {
   "cell_type": "code",
   "execution_count": null,
   "id": "b0f8625a-77c6-4a43-9df9-923f0111c4cf",
   "metadata": {},
   "outputs": [],
   "source": [
    "new_translations = {}"
   ]
  },
  {
   "cell_type": "code",
   "execution_count": null,
   "id": "f5e40bf3-44ab-498a-a5b3-3cdb1ef2db97",
   "metadata": {},
   "outputs": [],
   "source": [
    "languages[0]"
   ]
  },
  {
   "cell_type": "markdown",
   "id": "a5200734-94c9-4ed6-8f23-7565f0c80542",
   "metadata": {},
   "source": [
    "## Prints current translation to verify it's going OK"
   ]
  },
  {
   "cell_type": "code",
   "execution_count": null,
   "id": "aebe8292-7a03-4813-bbed-4bd1a469a4fe",
   "metadata": {
    "tags": []
   },
   "outputs": [],
   "source": [
    "for key in keys_to_translate[1:]:\n",
    "    try:\n",
    "        messages = get_translation_yaml(translations[key], languages=languages)\n",
    "        print(messages[-1][\"content\"])\n",
    "        async for text, token in model.stream_llm_reply(messages):\n",
    "            print(token, end=\"\")\n",
    "        new_translations[key] = text\n",
    "    finally:\n",
    "        clear_output(wait=True)"
   ]
  },
  {
   "cell_type": "markdown",
   "id": "f974c19a-a8a9-4fc7-a762-62a73bfae764",
   "metadata": {},
   "source": [
    "# Dump result"
   ]
  },
  {
   "cell_type": "code",
   "execution_count": null,
   "id": "69355cb0-a7a3-4ef6-a81a-30dbac1b92c7",
   "metadata": {},
   "outputs": [],
   "source": [
    "result = []\n",
    "for name in translations:\n",
    "    result.append(f\"{name}:\\n\")\n",
    "    if name in new_translations:\n",
    "        translation = new_translations[name]\n",
    "        lines = translation.splitlines()\n",
    "        assert \"```\" in lines[0]\n",
    "        assert \"```\" in lines[-1]\n",
    "        lines = translations[name].splitlines() + lines[1:-1]\n",
    "    else:\n",
    "        translation = translations[name]\n",
    "        lines = translation.splitlines()\n",
    "    for line in lines:\n",
    "        if line.strip():\n",
    "            result.append(f\"  {line}\\n\")\n",
    "        else:\n",
    "            result.append(\"\\n\")"
   ]
  },
  {
   "cell_type": "code",
   "execution_count": null,
   "id": "0d210b2f-16a7-475b-9900-8cf1d17c9758",
   "metadata": {},
   "outputs": [],
   "source": [
    "with open(BASE_PATH / 'strings_new.yml', \"w\") as f:\n",
    "    f.write(\"\".join(result))"
   ]
  }
 ],
 "metadata": {
  "kernelspec": {
   "display_name": "Python 3 (ipykernel)",
   "language": "python",
   "name": "python3"
  },
  "language_info": {
   "codemirror_mode": {
    "name": "ipython",
    "version": 3
   },
   "file_extension": ".py",
   "mimetype": "text/x-python",
   "name": "python",
   "nbconvert_exporter": "python",
   "pygments_lexer": "ipython3",
   "version": "3.10.8"
  }
 },
 "nbformat": 4,
 "nbformat_minor": 5
}
